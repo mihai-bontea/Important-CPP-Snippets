{
 "cells": [
  {
   "cell_type": "markdown",
   "metadata": {},
   "source": [
    "## std::remove_if vs std::erase_if\n",
    "\n",
    "Both take a range and a predicate. **std::remove_if** moves the elements to be deleted to the end of the container, and returns a new iterator to the new end. **std::erase_if** simplifies this process, erasing the elements from the container completely."
   ]
  },
  {
   "cell_type": "code",
   "execution_count": 4,
   "metadata": {},
   "outputs": [
    {
     "name": "stdout",
     "output_type": "stream",
     "text": [
      "1 3 5 7 9 \n"
     ]
    }
   ],
   "source": [
    "#include <iostream>\n",
    "#include <vector>\n",
    "#include <algorithm>\n",
    "\n",
    "std::vector<int> numbers = {1, 2, 3, 4, 5, 6, 7, 8, 9, 10};\n",
    "\n",
    "auto is_even = [](int num){return num % 2 == 0;};\n",
    "auto is_odd = [](int num){return num % 2 != 0;};\n",
    "\n",
    "auto print_container = [](const auto& container){\n",
    "                            for (const auto& elem : container)\n",
    "                                std::cout << elem << \" \";\n",
    "                            std::cout << std::endl;\n",
    "                        };\n",
    "\n",
    "// Removes elements from the range [first, last) for which the predicate returns true.\n",
    "auto new_end = std::remove_if(numbers.begin(), numbers.end(), is_even);\n",
    "\n",
    "// To actually erase the elements, you need to use erase\n",
    "numbers.erase(new_end, numbers.end());\n",
    "\n",
    "print_container(numbers);\n"
   ]
  },
  {
   "cell_type": "code",
   "execution_count": null,
   "metadata": {},
   "outputs": [
    {
     "name": "stderr",
     "output_type": "stream",
     "text": [
      "input_line_18:6:1: error: type '(lambda at input_line_17:5:24)' does not provide a call operator\n",
      "print_container(numbers);\n",
      "^~~~~~~~~~~~~~~\n"
     ]
    }
   ],
   "source": [
    "std::erase_if(numbers.begin(), numbers.end(), is_odd);\n",
    "\n",
    "print_container(numbers);"
   ]
  },
  {
   "cell_type": "markdown",
   "metadata": {},
   "source": [
    "## minHeap and maxHeap with std::priority_queue"
   ]
  },
  {
   "cell_type": "code",
   "execution_count": 1,
   "metadata": {},
   "outputs": [
    {
     "name": "stdout",
     "output_type": "stream",
     "text": [
      "1"
     ]
    }
   ],
   "source": [
    "#include <iostream>\n",
    "#include <queue>\n",
    "\n",
    "std::priority_queue<int, std::vector<int>, std::greater<int>> minHeap;\n",
    "for (int i = 1; i <= 10; ++i)\n",
    "    minHeap.push(i);\n",
    "\n",
    "std::cout << minHeap.top();\n"
   ]
  },
  {
   "cell_type": "code",
   "execution_count": 3,
   "metadata": {},
   "outputs": [
    {
     "name": "stdout",
     "output_type": "stream",
     "text": [
      "10"
     ]
    }
   ],
   "source": [
    "std::priority_queue<int, std::vector<int>> maxHeap;\n",
    "for (int i = 1; i <= 10; ++i)\n",
    "    maxHeap.push(i);\n",
    "\n",
    "std::cout << maxHeap.top();"
   ]
  },
  {
   "cell_type": "markdown",
   "metadata": {},
   "source": [
    "## Structured binding"
   ]
  },
  {
   "cell_type": "code",
   "execution_count": 2,
   "metadata": {},
   "outputs": [
    {
     "name": "stdout",
     "output_type": "stream",
     "text": [
      "B : 2\n",
      "C : 3\n",
      "A : 1\n"
     ]
    }
   ],
   "source": [
    "#include <iostream>\n",
    "#include <unordered_map>\n",
    "\n",
    "std::unordered_map<std::string, int> name_to_score;\n",
    "name_to_score[\"A\"] = 1;\n",
    "name_to_score[\"B\"] = 2;\n",
    "name_to_score[\"C\"] = 3;\n",
    "\n",
    "for (auto [key, value] : name_to_score)\n",
    "{\n",
    "    std::cout << key << \" : \" << value << std::endl;\n",
    "}\n"
   ]
  },
  {
   "cell_type": "markdown",
   "metadata": {},
   "source": [
    "## Custom hash function for use in std::unordered_set"
   ]
  },
  {
   "cell_type": "code",
   "execution_count": 1,
   "metadata": {},
   "outputs": [],
   "source": [
    "#include <iostream>\n",
    "#include <unordered_set>\n",
    "#include <utility>\n",
    "\n",
    "// Custom hash function for std::pair<int, int>\n",
    "struct PairHash {\n",
    "    template <class T1, class T2>\n",
    "    size_t operator()(const std::pair<T1, T2>& p) const {\n",
    "        // Combine the hashes of the two elements in the pair\n",
    "        size_t hash1 = std::hash<T1>{}(p.first);\n",
    "        size_t hash2 = std::hash<T2>{}(p.second);\n",
    "        return hash1 ^ hash2;\n",
    "    }\n",
    "};\n",
    "\n",
    "std::unordered_set<std::pair<int, int>, PairHash> set;\n",
    "set.insert({1, 2});"
   ]
  },
  {
   "cell_type": "markdown",
   "metadata": {},
   "source": [
    "## Speeding up input\n",
    "\n",
    "**ios_base::sync_with_stdio(false)** disables the synchronization between C and C++ standard streams. Improves perforance as long as C and C++ I/O are not mixed.\n",
    "\n",
    "**cin.tie(NULL)** unties cin from cout. When two streams are tied, one stream is flushed automatically before each I/O operation on the other stream."
   ]
  },
  {
   "cell_type": "code",
   "execution_count": null,
   "metadata": {
    "vscode": {
     "languageId": "plaintext"
    }
   },
   "outputs": [],
   "source": [
    "ios_base::sync_with_stdio(false);\n",
    "cin.tie(NULL);"
   ]
  },
  {
   "cell_type": "markdown",
   "metadata": {},
   "source": [
    "## Minimal implementation of unique_ptr\n",
    "\n",
    "* **noexcept** is necessary for move constructor and move assignment operator in order to take advantage of certain optimizations.\n",
    "\n",
    "* copy constructor and copy assignment are explicitly deleted."
   ]
  },
  {
   "cell_type": "code",
   "execution_count": null,
   "metadata": {
    "vscode": {
     "languageId": "plaintext"
    }
   },
   "outputs": [],
   "source": [
    "template <typename T>\n",
    "class unique_ptr\n",
    "{\n",
    "public:\n",
    "    explicit unique_ptr(T* ptr = nullptr)\n",
    "    {\n",
    "        ptr_ = ptr;\n",
    "        ptr = nullptr;\n",
    "    }\n",
    "\n",
    "    unique_ptr(const unique_ptr& other) = delete;\n",
    "    unique_ptr& operator=(const unique_ptr& other) = delete;\n",
    "\n",
    "    unique_ptr(unique_ptr&& other) noexcept\n",
    "    {\n",
    "        ptr_ = other.ptr_;\n",
    "        other.ptr_ = nullptr;\n",
    "    }\n",
    "\n",
    "    unique_ptr& operator=(unique_ptr&& other) noexcept\n",
    "    {\n",
    "        delete ptr_;\n",
    "\n",
    "        ptr_ = other.ptr_;\n",
    "        other.ptr_ = nullptr;\n",
    "\n",
    "        return *this;\n",
    "    }\n",
    "\n",
    "    ~unique_ptr()\n",
    "    {\n",
    "        delete ptr_;\n",
    "    }\n",
    "\n",
    "    T* get()\n",
    "    {\n",
    "        return ptr_;\n",
    "    }\n",
    "\n",
    "private:\n",
    "    T* ptr_;\n",
    "};"
   ]
  },
  {
   "cell_type": "markdown",
   "metadata": {},
   "source": [
    "## Fast parsing of large input files\n",
    "\n",
    "When reading large files, it is best to do it in large chunks, in order to minimize the number of system calls, and to optimize disk access. A disk block size is typically 4096 bytes, which is the optimal size to read at once."
   ]
  },
  {
   "cell_type": "code",
   "execution_count": null,
   "metadata": {
    "vscode": {
     "languageId": "plaintext"
    }
   },
   "outputs": [],
   "source": [
    "class InParser{\n",
    "private:\n",
    "    const static size_t BLOCK_SIZE = 4096;\n",
    "\n",
    "    FILE *fin;\n",
    "    char *buffer;\n",
    "    size_t current_index;\n",
    "\n",
    "    inline char read_char()\n",
    "    {\n",
    "        ++current_index;\n",
    "        if (current_index == BLOCK_SIZE)\n",
    "        {\n",
    "            current_index = 0;\n",
    "            fread(buffer, 1, BLOCK_SIZE, fin);\n",
    "        }\n",
    "        return buffer[current_index];\n",
    "    }\n",
    "\n",
    "public:\n",
    "    explicit InParser(const char* file_name)\n",
    "    {\n",
    "        fin = fopen(file_name, \"r\");\n",
    "        if (fin == NULL)\n",
    "            printf(\"File not found!\");\n",
    "\n",
    "        buffer = new char[BLOCK_SIZE]();\n",
    "        current_index = BLOCK_SIZE - 1;\n",
    "    }\n",
    "\n",
    "    ~InParser()\n",
    "    {\n",
    "        delete[] buffer;\n",
    "    }\n",
    "\n",
    "    InParser& operator >> (int &num)\n",
    "    {\n",
    "        char ch;\n",
    "        while (!isdigit(ch = read_char()) && ch != '-');\n",
    "        int sign = 1;\n",
    "        if (ch == '-')\n",
    "        {\n",
    "            num = 0;\n",
    "            sign = -1;\n",
    "        } else\n",
    "        {\n",
    "            num = ch - '0';\n",
    "        }\n",
    "        while (isdigit(ch = read_char()))\n",
    "        {\n",
    "            num = 10 * num + ch - '0';\n",
    "        }\n",
    "        num *= sign;\n",
    "        return *this;\n",
    "    }\n",
    "\n",
    "    InParser& operator >> (long long &num)\n",
    "    {\n",
    "        char ch;\n",
    "        num = 0;\n",
    "        while (!isdigit(ch = read_char()) && ch != '-');\n",
    "        long long sign = 1;\n",
    "        if (ch == '-')\n",
    "        {\n",
    "            num = 0;\n",
    "            sign = -1;\n",
    "        } else\n",
    "        {\n",
    "            num = ch - '0';\n",
    "        }\n",
    "        while (isdigit(ch = read_char()))\n",
    "        {\n",
    "            num = 10 * num + ch - '0';\n",
    "        }\n",
    "        num *= sign;\n",
    "        return *this;\n",
    "    }\n",
    "};"
   ]
  }
 ],
 "metadata": {
  "kernelspec": {
   "display_name": "C++17",
   "language": "C++17",
   "name": "xcpp17"
  },
  "language_info": {
   "codemirror_mode": "text/x-c++src",
   "file_extension": ".cpp",
   "mimetype": "text/x-c++src",
   "name": "c++",
   "version": "17"
  }
 },
 "nbformat": 4,
 "nbformat_minor": 2
}
