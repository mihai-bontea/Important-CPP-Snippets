{
 "cells": [
  {
   "cell_type": "markdown",
   "metadata": {},
   "source": [
    "## Usage\n",
    "\n",
    "<div style=\"background: #efffed;\n",
    "            border: 1px solid grey;\n",
    "            margin: 8px 0 8px 0;\n",
    "            text-align: center;\n",
    "            padding: 8px; \">\n",
    "    <i class=\"fa-play fa\" \n",
    "       style=\"font-size: 40px;\n",
    "              line-height: 40px;\n",
    "              margin: 8px;\n",
    "              color: #444;\">\n",
    "    </i>\n",
    "    <div>\n",
    "    To run the selected code cell, hit <pre style=\"background: #efffed\">Shift + Enter</pre>\n",
    "    </div>\n",
    "</div>"
   ]
  },
  {
   "cell_type": "markdown",
   "metadata": {},
   "source": [
    "## std::remove_if vs std::erase_if\n",
    "\n",
    "Both take a range and a predicate. **std::remove_if** moves the elements to be deleted to the end of the container, and returns a new iterator to the new end. **std::erase_if** simplifies this process, erasing the elements from the container completely."
   ]
  },
  {
   "cell_type": "code",
   "execution_count": 4,
   "metadata": {},
   "outputs": [
    {
     "name": "stdout",
     "output_type": "stream",
     "text": [
      "1 3 5 7 9 \n"
     ]
    }
   ],
   "source": [
    "#include <iostream>\n",
    "#include <vector>\n",
    "#include <algorithm>\n",
    "\n",
    "std::vector<int> numbers = {1, 2, 3, 4, 5, 6, 7, 8, 9, 10};\n",
    "\n",
    "auto is_even = [](int num){return num % 2 == 0;};\n",
    "auto is_odd = [](int num){return num % 2 != 0;};\n",
    "\n",
    "auto print_container = [](const auto& container){\n",
    "                            for (const auto& elem : container)\n",
    "                                std::cout << elem << \" \";\n",
    "                            std::cout << std::endl;\n",
    "                        };\n",
    "\n",
    "// Removes elements from the range [first, last) for which the predicate returns true.\n",
    "auto new_end = std::remove_if(numbers.begin(), numbers.end(), is_even);\n",
    "\n",
    "// To actually erase the elements, you need to use erase\n",
    "numbers.erase(new_end, numbers.end());\n",
    "\n",
    "print_container(numbers);\n"
   ]
  },
  {
   "cell_type": "code",
   "execution_count": null,
   "metadata": {},
   "outputs": [
    {
     "name": "stderr",
     "output_type": "stream",
     "text": [
      "input_line_18:6:1: error: type '(lambda at input_line_17:5:24)' does not provide a call operator\n",
      "print_container(numbers);\n",
      "^~~~~~~~~~~~~~~\n"
     ]
    }
   ],
   "source": [
    "std::erase_if(numbers.begin(), numbers.end(), is_odd);\n",
    "\n",
    "print_container(numbers);"
   ]
  },
  {
   "cell_type": "markdown",
   "metadata": {},
   "source": [
    "## minHeap and maxHeap with std::priority_queue"
   ]
  },
  {
   "cell_type": "code",
   "execution_count": 1,
   "metadata": {},
   "outputs": [
    {
     "name": "stdout",
     "output_type": "stream",
     "text": [
      "1"
     ]
    }
   ],
   "source": [
    "#include <iostream>\n",
    "#include <queue>\n",
    "\n",
    "std::priority_queue<int, std::vector<int>, std::greater<int>> minHeap;\n",
    "for (int i = 1; i <= 10; ++i)\n",
    "    minHeap.push(i);\n",
    "\n",
    "std::cout << minHeap.top();\n"
   ]
  },
  {
   "cell_type": "code",
   "execution_count": 3,
   "metadata": {},
   "outputs": [
    {
     "name": "stdout",
     "output_type": "stream",
     "text": [
      "10"
     ]
    }
   ],
   "source": [
    "std::priority_queue<int, std::vector<int>> maxHeap;\n",
    "for (int i = 1; i <= 10; ++i)\n",
    "    maxHeap.push(i);\n",
    "\n",
    "std::cout << maxHeap.top();"
   ]
  },
  {
   "cell_type": "markdown",
   "metadata": {},
   "source": [
    "## Structured binding"
   ]
  },
  {
   "cell_type": "code",
   "execution_count": 2,
   "metadata": {},
   "outputs": [
    {
     "name": "stdout",
     "output_type": "stream",
     "text": [
      "B : 2\n",
      "C : 3\n",
      "A : 1\n"
     ]
    }
   ],
   "source": [
    "#include <iostream>\n",
    "#include <unordered_map>\n",
    "\n",
    "std::unordered_map<std::string, int> name_to_score;\n",
    "name_to_score[\"A\"] = 1;\n",
    "name_to_score[\"B\"] = 2;\n",
    "name_to_score[\"C\"] = 3;\n",
    "\n",
    "for (auto [key, value] : name_to_score)\n",
    "{\n",
    "    std::cout << key << \" : \" << value << std::endl;\n",
    "}\n"
   ]
  },
  {
   "cell_type": "markdown",
   "metadata": {},
   "source": [
    "## Custom hash function for use in std::unordered_set"
   ]
  },
  {
   "cell_type": "code",
   "execution_count": 1,
   "metadata": {},
   "outputs": [],
   "source": [
    "#include <iostream>\n",
    "#include <unordered_set>\n",
    "#include <utility>\n",
    "\n",
    "// Custom hash function for std::pair<int, int>\n",
    "struct PairHash {\n",
    "    template <class T1, class T2>\n",
    "    size_t operator()(const std::pair<T1, T2>& p) const {\n",
    "        // Combine the hashes of the two elements in the pair\n",
    "        size_t hash1 = std::hash<T1>{}(p.first);\n",
    "        size_t hash2 = std::hash<T2>{}(p.second);\n",
    "        return hash1 ^ hash2;\n",
    "    }\n",
    "};\n",
    "\n",
    "std::unordered_set<std::pair<int, int>, PairHash> set;\n",
    "set.insert({1, 2});"
   ]
  }
 ],
 "metadata": {
  "kernelspec": {
   "display_name": "C++17",
   "language": "C++17",
   "name": "xcpp17"
  },
  "language_info": {
   "codemirror_mode": "text/x-c++src",
   "file_extension": ".cpp",
   "mimetype": "text/x-c++src",
   "name": "c++",
   "version": "17"
  }
 },
 "nbformat": 4,
 "nbformat_minor": 2
}
